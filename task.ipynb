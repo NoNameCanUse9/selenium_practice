{
 "cells": [
  {
   "cell_type": "code",
   "execution_count": 17,
   "metadata": {},
   "outputs": [],
   "source": [
    "from selenium import webdriver\n",
    "from selenium.webdriver.common.by import By\n",
    "import json\n",
    "data={}"
   ]
  },
  {
   "cell_type": "code",
   "execution_count": 18,
   "metadata": {},
   "outputs": [],
   "source": [
    "driver = webdriver.Chrome()"
   ]
  },
  {
   "cell_type": "code",
   "execution_count": 19,
   "metadata": {},
   "outputs": [],
   "source": [
    "driver.get(\"https://www.toolify.ai/category\")"
   ]
  },
  {
   "cell_type": "code",
   "execution_count": null,
   "metadata": {},
   "outputs": [
    {
     "name": "stdout",
     "output_type": "stream",
     "text": [
      "AI Blog Writer\n",
      "Translate\n",
      "Papers\n",
      "Handwriting\n",
      "Copywriting\n",
      "Captions or Subtitle\n",
      "Essay Writer\n",
      "Letter Writer\n",
      "AI Lyrics Generator\n",
      "Report Writing\n",
      "AI Rewriter\n",
      "AI Script Writing\n",
      "AI Story Writing\n",
      "AI Bio Generator\n",
      "AI Book Writing\n",
      "Paraphraser\n",
      "AI Poem & Poetry Generator\n",
      "Summarizer\n",
      "Pick-up Lines Generator\n",
      "Transcription\n",
      "General Writing\n",
      "Writing Assistants\n",
      "AI Creative Writing\n",
      "Transcriber\n",
      "AI Content Generator\n",
      "AI Email Writer\n",
      "Novel\n",
      "Quotes Generator\n",
      "AI Product Description Generator\n"
     ]
    }
   ],
   "source": [
    "parent_element = driver.find_element(By.XPATH, '//*[@id=\"group-text-writing\"]')\n",
    "\n",
    "# 在父元素中查找具有特定 class 的子元素\n",
    "target_elements = parent_element.find_elements(By.XPATH, './/*[@class=\"mt-4 grid grid-cols-1 sm:grid-cols-2 md:grid-cols-3 gap-4\"]')\n",
    "\n",
    "# 遍历每个目标元素并打印其子元素的属性\n",
    "for target in target_elements:\n",
    "    child_elements = target.find_elements(By.XPATH, './*')\n",
    "    for child in child_elements:\n",
    "        # 例如，获取每个子元素的 class 属性\n",
    "        #print(child.find_element(By.XPATH, './span').text)\n",
    "        "
   ]
  },
  {
   "cell_type": "code",
   "execution_count": 26,
   "metadata": {},
   "outputs": [],
   "source": [
    "father = driver.find_element(By.XPATH, '//*[@id=\"app\"]/div[2]/div/div[2]/div/div[2]/div[2]')\n",
    "child=father.find_elements(By.XPATH, './div')"
   ]
  },
  {
   "cell_type": "code",
   "execution_count": 5,
   "metadata": {},
   "outputs": [],
   "source": [
    "subtitle=(child[1].find_element(By.XPATH, './div/a/span').text)\n",
    "num=(child[1].find_element(By.XPATH, './div/a/div').text)\n",
    "links=(child[1].find_element(By.XPATH, './div/a').get_attribute('href'))\n",
    "title=(child[1].find_element(By.XPATH, './h3').text)"
   ]
  },
  {
   "cell_type": "code",
   "execution_count": 38,
   "metadata": {},
   "outputs": [
    {
     "name": "stdout",
     "output_type": "stream",
     "text": [
      "Text to Image\n",
      "645\n",
      "https://www.toolify.ai/category/text-to-image\n",
      "Image\n"
     ]
    }
   ],
   "source": [
    "print(subtitle)\n",
    "print(num)\n",
    "print(links)\n",
    "print(title)"
   ]
  },
  {
   "cell_type": "code",
   "execution_count": null,
   "metadata": {},
   "outputs": [],
   "source": [
    "\n",
    "for target in child:\n",
    "    title=target.find_element(By.XPATH, './h3').text\n",
    "    target=target.find_elements(By.XPATH, './div/a')\n",
    "    data[title]=[]\n",
    "    for i in target:\n",
    "        subtitle=i.find_element(By.XPATH, './span').text\n",
    "        num=i.find_element(By.XPATH, './div').text\n",
    "        links=i.get_attribute('href')\n",
    "        data[title].append({subtitle:{'resources_num':num,'links':links}})\n",
    "        \n",
    "\n",
    "result={}\n",
    "result[\"category\"]=data\n"
   ]
  },
  {
   "cell_type": "code",
   "execution_count": 34,
   "metadata": {},
   "outputs": [],
   "source": [
    "with open('data.json', 'w', encoding='utf-8') as f:\n",
    "    json.dump(result, f, ensure_ascii=False, indent=4)"
   ]
  }
 ],
 "metadata": {
  "kernelspec": {
   "display_name": "pp",
   "language": "python",
   "name": "python3"
  },
  "language_info": {
   "codemirror_mode": {
    "name": "ipython",
    "version": 3
   },
   "file_extension": ".py",
   "mimetype": "text/x-python",
   "name": "python",
   "nbconvert_exporter": "python",
   "pygments_lexer": "ipython3",
   "version": "3.12.7"
  }
 },
 "nbformat": 4,
 "nbformat_minor": 2
}
